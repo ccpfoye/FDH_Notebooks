{
 "cells": [
  {
   "cell_type": "markdown",
   "metadata": {},
   "source": [
    "# Universal Ontologies\n",
    "\n",
    "In the previous notebook, [Semantic Modeling](SemanticModeling.ipynb), we derived a motivation for ontologies. When we store our data in sematic graphs, we need a way to:\n",
    "- search by specific type of object\n",
    "- search for specific types of relationships\n",
    "- define the rules of our system\n",
    "\n",
    "We will see all three of those goals implemented in this notebook, and we will try and explore their consequences!\n",
    "\n",
    "**Universal Ontologies** are attempts to define rules for *any* kind of system which we want to model. We won't implement a universal ontology here, as it is out of scope. Instead, we will make a version of an ontology to fit the MoMA collection dataset. \n",
    "\n",
    "Clay's opinion: defining a *true* universal ontology is the task of madmen and those with a budget to evaporate.\n",
    "\n",
    "However, universal ontologies do exist, and they are helpful in the same way that **identifiers** are helpful, as we saw in the `Semantic Modeling` notebook. If our data spans multiple different semantic graphs and datasets, we can easily combine them if they all follow a universal ontology.\n",
    "\n",
    "\n",
    "## FDH Textbook's Definition\n",
    "\n",
    "Let's look at the textbook's definition for a **Universal Ontology**:\n",
    "\n",
    "> Universal ontologies represent an ambitious effort in the field of semantic modeling, aiming  to create frameworks that are widely applicable across various domains. These ontologies are  designed to be comprehensive, interoperable, and capable of addressing fundamental challenges  in representing and linking diverse datasets.\n",
    "\n",
    "In the textbook's definition, we see that key aspect we derived in `Semantic Modeling`: universal ontologies exist to \"represent and *link* diverse datasets.\"\n",
    "\n",
    "## What do Universal Ontologies Model?\n",
    "\n",
    "FDH's Textbook breaks down Universal Ontologies into 4 modeling tasks. Quoting the list from the textbook:\n",
    "1. Modeling Time: Creating representations that can account for historical, present,  and future contexts, including temporal intervals, sequences, and overlaps.\n",
    "2. Modeling Space: Addressing spatial relationships, including coordinates, regions,  and topological connections.\n",
    "3. Modeling Events: Defining events as interactions between entities, with attributes  like time, location, and participating agents.\n",
    "4. Modeling Relations: Capturing the diverse and complex relationships that exist  between entities, such as hierarchical, causal, and associative links.\n",
    "\n",
    "\n",
    "## Challenges with Universal Ontologies\n",
    "\n",
    "The \"universal\" nature of \"universal ontologies\" creates some problems for them.  \n",
    "\n",
    "By their definition, universal ontologies want to encompass every kind of semantic dataset. However, this often (practically) results in a lot of bloated, unused features for specific use cases. Furthermore, they require *instantaneous mass adoption* to be worth the overhead which they generate. Finally, they are very resistant to changes which cause `backwards-incompatability`: when datasets modeled with the newer versions of the ontology cannot combine with datasets modeled with older versions of the ontology.\n",
    "\n",
    "\n",
    "## Constructing Universal Ontologies\n",
    "\n",
    "Universal Ontologies are usually created in two ways: as a product of community participation, or by a specialized committee. We will look at both types!\n"
   ]
  },
  {
   "cell_type": "markdown",
   "metadata": {},
   "source": [
    "## Collective Ontologies: WikiData\n",
    "The most famous example of a collective ontology is the WikiData dataset. In `Semantic Modeling`, we quickly reviewed WikiData and saw it in the real world! Let's now give it the love it deserves.\n",
    "\n",
    "We're going to use the Python endpoint of WikiData in this notebook, but be aware there are other ways of querying the dataset."
   ]
  },
  {
   "cell_type": "code",
   "execution_count": null,
   "metadata": {},
   "outputs": [],
   "source": [
    "%pip install Wikidata"
   ]
  },
  {
   "cell_type": "code",
   "execution_count": 6,
   "metadata": {},
   "outputs": [],
   "source": [
    "# Some imports to get us started.\n",
    "import wikidata\n",
    "from wikidata.client import Client\n",
    "\n",
    "import pandas as pd\n",
    "import numpy as np\n",
    "import matplotlib.pyplot as plt"
   ]
  },
  {
   "cell_type": "code",
   "execution_count": null,
   "metadata": {},
   "outputs": [],
   "source": [
    "# Load in our swiss artists and artworks from MoMA. \n",
    "# See `Semantic Modeling` notebook if you want a more deatiled explanation.\n",
    "swiss_artists = pd.read_csv('Swiss_Artists.csv')\n",
    "swiss_artworks = pd.read_csv('Swiss_Artworks.csv')"
   ]
  },
  {
   "cell_type": "code",
   "execution_count": 4,
   "metadata": {},
   "outputs": [
    {
     "data": {
      "text/html": [
       "<div>\n",
       "<style scoped>\n",
       "    .dataframe tbody tr th:only-of-type {\n",
       "        vertical-align: middle;\n",
       "    }\n",
       "\n",
       "    .dataframe tbody tr th {\n",
       "        vertical-align: top;\n",
       "    }\n",
       "\n",
       "    .dataframe thead th {\n",
       "        text-align: right;\n",
       "    }\n",
       "</style>\n",
       "<table border=\"1\" class=\"dataframe\">\n",
       "  <thead>\n",
       "    <tr style=\"text-align: right;\">\n",
       "      <th></th>\n",
       "      <th>ConstituentID</th>\n",
       "      <th>DisplayName</th>\n",
       "      <th>ArtistBio</th>\n",
       "      <th>Nationality</th>\n",
       "      <th>Gender</th>\n",
       "      <th>BeginDate</th>\n",
       "      <th>EndDate</th>\n",
       "      <th>Wiki QID</th>\n",
       "      <th>ULAN</th>\n",
       "    </tr>\n",
       "  </thead>\n",
       "  <tbody>\n",
       "    <tr>\n",
       "      <th>0</th>\n",
       "      <td>149</td>\n",
       "      <td>Cuno Amiet</td>\n",
       "      <td>Swiss, 1868–1961</td>\n",
       "      <td>Swiss</td>\n",
       "      <td>male</td>\n",
       "      <td>1868</td>\n",
       "      <td>1961</td>\n",
       "      <td>Q566797</td>\n",
       "      <td>500005153.0</td>\n",
       "    </tr>\n",
       "    <tr>\n",
       "      <th>1</th>\n",
       "      <td>314</td>\n",
       "      <td>Theo H. Ballmer</td>\n",
       "      <td>Swiss, 1902–1965</td>\n",
       "      <td>Swiss</td>\n",
       "      <td>male</td>\n",
       "      <td>1902</td>\n",
       "      <td>1965</td>\n",
       "      <td>Q2416828</td>\n",
       "      <td>500060722.0</td>\n",
       "    </tr>\n",
       "    <tr>\n",
       "      <th>2</th>\n",
       "      <td>348</td>\n",
       "      <td>Maurice Barraud</td>\n",
       "      <td>Swiss, 1889–1955</td>\n",
       "      <td>Swiss</td>\n",
       "      <td>male</td>\n",
       "      <td>1889</td>\n",
       "      <td>1955</td>\n",
       "      <td>NaN</td>\n",
       "      <td>NaN</td>\n",
       "    </tr>\n",
       "  </tbody>\n",
       "</table>\n",
       "</div>"
      ],
      "text/plain": [
       "   ConstituentID      DisplayName         ArtistBio Nationality Gender  \\\n",
       "0            149       Cuno Amiet  Swiss, 1868–1961       Swiss   male   \n",
       "1            314  Theo H. Ballmer  Swiss, 1902–1965       Swiss   male   \n",
       "2            348  Maurice Barraud  Swiss, 1889–1955       Swiss   male   \n",
       "\n",
       "   BeginDate  EndDate  Wiki QID         ULAN  \n",
       "0       1868     1961   Q566797  500005153.0  \n",
       "1       1902     1965  Q2416828  500060722.0  \n",
       "2       1889     1955       NaN          NaN  "
      ]
     },
     "execution_count": 4,
     "metadata": {},
     "output_type": "execute_result"
    }
   ],
   "source": [
    "swiss_artists.head(3)"
   ]
  },
  {
   "cell_type": "markdown",
   "metadata": {},
   "source": [
    "Before we dive into a quick overview, know that I am referring to the [Wikidata documentation](https://wikidata.readthedocs.io/en/stable/)."
   ]
  },
  {
   "cell_type": "code",
   "execution_count": null,
   "metadata": {},
   "outputs": [],
   "source": [
    "# We begin by creating a client to query the database:\n",
    "client = Client()\n",
    "\n",
    "# Let's query the data for the artist \"Cunu Amiet\", who has a Wiki QID.\n",
    "cuno_amiet_qid = swiss_artists[swiss_artists['DisplayName'] == 'Cuno Amiet']['Wiki QID'].values[0]\n",
    "\n",
    "cuno_amiet = client.get(cuno_amiet_qid)"
   ]
  },
  {
   "cell_type": "markdown",
   "metadata": {},
   "source": [
    "When we query the client, we can query with an entity ID, the foundation of Wikidata. We get back a WikiData entity. "
   ]
  },
  {
   "cell_type": "code",
   "execution_count": 9,
   "metadata": {},
   "outputs": [
    {
     "data": {
      "text/plain": [
       "<wikidata.entity.Entity Q566797>"
      ]
     },
     "execution_count": 9,
     "metadata": {},
     "output_type": "execute_result"
    }
   ],
   "source": [
    "cuno_amiet"
   ]
  },
  {
   "cell_type": "code",
   "execution_count": 11,
   "metadata": {},
   "outputs": [
    {
     "data": {
      "text/plain": [
       "m'Swiss painter, draughtsman, graphic artist and sculptor (1868-1961)'"
      ]
     },
     "execution_count": 11,
     "metadata": {},
     "output_type": "execute_result"
    }
   ],
   "source": [
    "cuno_amiet.description"
   ]
  },
  {
   "cell_type": "code",
   "execution_count": 21,
   "metadata": {},
   "outputs": [
    {
     "data": {
      "text/plain": [
       "[(<wikidata.entity.Entity P19>, [<wikidata.entity.Entity Q68965>]),\n",
       " (<wikidata.entity.Entity P214>, ['7399068']),\n",
       " (<wikidata.entity.Entity P213>, ['0000000108665347']),\n",
       " (<wikidata.entity.Entity P244>, ['n83224756']),\n",
       " (<wikidata.entity.Entity P227>, ['118502557']),\n",
       " (<wikidata.entity.Entity P373>, ['Cuno Amiet']),\n",
       " (<wikidata.entity.Entity P269>, ['027277852']),\n",
       " (<wikidata.entity.Entity P268>, ['14969008f', '119354761']),\n",
       " (<wikidata.entity.Entity P20>, [<wikidata.entity.Entity Q33035234>]),\n",
       " (<wikidata.entity.Entity P27>, [<wikidata.entity.Entity Q39>]),\n",
       " (<wikidata.entity.Entity P569>, [datetime.date(1868, 3, 28)]),\n",
       " (<wikidata.entity.Entity P570>, [datetime.date(1961, 7, 6)]),\n",
       " (<wikidata.entity.Entity P31>, [<wikidata.entity.Entity Q5>]),\n",
       " (<wikidata.entity.Entity P646>, ['/m/03kw9m']),\n",
       " (<wikidata.entity.Entity P902>, ['021974']),\n",
       " (<wikidata.entity.Entity P135>, [<wikidata.entity.Entity Q382056>]),\n",
       " (<wikidata.entity.Entity P106>,\n",
       "  [<wikidata.entity.Entity Q1028181>,\n",
       "   <wikidata.entity.Entity Q1281618>,\n",
       "   <wikidata.entity.Entity Q627325>,\n",
       "   <wikidata.entity.Entity Q11569986>]),\n",
       " (<wikidata.entity.Entity P781>, ['4000011']),\n",
       " (<wikidata.entity.Entity P69>,\n",
       "  [<wikidata.entity.Entity Q414052>, <wikidata.entity.Entity Q337480>]),\n",
       " (<wikidata.entity.Entity P650>, ['1538']),\n",
       " (<wikidata.entity.Entity P245>, ['500005153']),\n",
       " (<wikidata.entity.Entity P1006>, ['069037981']),\n",
       " (<wikidata.entity.Entity P800>,\n",
       "  [<wikidata.entity.Entity Q17492760>,\n",
       "   <wikidata.entity.Entity Q17494237>,\n",
       "   <wikidata.entity.Entity Q17495375>]),\n",
       " (<wikidata.entity.Entity P1284>, ['00000001723']),\n",
       " (<wikidata.entity.Entity P866>, ['cuno-amiet']),\n",
       " (<wikidata.entity.Entity P735>, [<wikidata.entity.Entity Q1144067>]),\n",
       " (<wikidata.entity.Entity P1711>, ['17258']),\n",
       " (<wikidata.entity.Entity P2042>, ['cuno-amiet']),\n",
       " (<wikidata.entity.Entity P2174>, ['149']),\n",
       " (<wikidata.entity.Entity P1296>, ['0003582']),\n",
       " (<wikidata.entity.Entity P2252>, ['14330']),\n",
       " (<wikidata.entity.Entity P2268>, ['564']),\n",
       " (<wikidata.entity.Entity P648>, ['OL331182A']),\n",
       " (<wikidata.entity.Entity P2163>, ['122032']),\n",
       " (<wikidata.entity.Entity P2741>, ['cuno-amiet-646']),\n",
       " (<wikidata.entity.Entity P949>, ['001436545']),\n",
       " (<wikidata.entity.Entity P2843>, ['B00004071']),\n",
       " (<wikidata.entity.Entity P3430>, ['w64x59zj']),\n",
       " (<wikidata.entity.Entity P3222>, ['cuno-amiet']),\n",
       " (<wikidata.entity.Entity P4145>, ['4150']),\n",
       " (<wikidata.entity.Entity P3782>, ['cuno-amiet']),\n",
       " (<wikidata.entity.Entity P4200>, ['9625']),\n",
       " (<wikidata.entity.Entity P906>, ['212769', 'rp3565p92wpxsrj']),\n",
       " (<wikidata.entity.Entity P1988>, ['14149_artiste_AMIET_Cuno']),\n",
       " (<wikidata.entity.Entity P4927>, ['lw17uax036']),\n",
       " (<wikidata.entity.Entity P1953>, ['4288007']),\n",
       " (<wikidata.entity.Entity P5597>, ['amiet_cuno']),\n",
       " (<wikidata.entity.Entity P5489>, ['80857']),\n",
       " (<wikidata.entity.Entity P5587>, ['rp3565p92wpxsrj']),\n",
       " (<wikidata.entity.Entity P166>, [<wikidata.entity.Entity Q56871267>]),\n",
       " (<wikidata.entity.Entity P21>, [<wikidata.entity.Entity Q6581097>]),\n",
       " (<wikidata.entity.Entity P6231>, ['56154']),\n",
       " (<wikidata.entity.Entity P6002>, ['cuno-amiet']),\n",
       " (<wikidata.entity.Entity P6379>,\n",
       "  [<wikidata.entity.Entity Q430682>,\n",
       "   <wikidata.entity.Entity Q214867>,\n",
       "   <wikidata.entity.Entity Q163804>,\n",
       "   <wikidata.entity.Entity Q188740>,\n",
       "   <wikidata.entity.Entity Q1117704>,\n",
       "   <wikidata.entity.Entity Q3330192>,\n",
       "   <wikidata.entity.Entity Q23402>,\n",
       "   <wikidata.entity.Entity Q377500>,\n",
       "   <wikidata.entity.Entity Q301250>,\n",
       "   <wikidata.entity.Entity Q1994770>,\n",
       "   <wikidata.entity.Entity Q105027234>]),\n",
       " (<wikidata.entity.Entity P1321>,\n",
       "  [<wikidata.entity.Entity Q67499>,\n",
       "   <wikidata.entity.Entity Q70275>,\n",
       "   <wikidata.entity.Entity Q68965>]),\n",
       " (<wikidata.entity.Entity P463>, [<wikidata.entity.Entity Q152778>]),\n",
       " (<wikidata.entity.Entity P6844>, ['56545']),\n",
       " (<wikidata.entity.Entity P4581>, ['amiet-cuno']),\n",
       " (<wikidata.entity.Entity P1412>, [<wikidata.entity.Entity Q387066>]),\n",
       " (<wikidata.entity.Entity P734>, [<wikidata.entity.Entity Q55643579>]),\n",
       " (<wikidata.entity.Entity P5019>, ['amiet-cuno']),\n",
       " (<wikidata.entity.Entity P4342>, ['Cuno_Amiet']),\n",
       " (<wikidata.entity.Entity P7704>, ['agent/base/108508']),\n",
       " (<wikidata.entity.Entity P101>, [<wikidata.entity.Entity Q11629>]),\n",
       " (<wikidata.entity.Entity P7944>, ['4']),\n",
       " (<wikidata.entity.Entity P7763>, [<wikidata.entity.Entity Q73555012>]),\n",
       " (<wikidata.entity.Entity P7902>, ['118502557']),\n",
       " (<wikidata.entity.Entity P7848>,\n",
       "  ['991005046349707141', '991007815269707141']),\n",
       " (<wikidata.entity.Entity P8406>, ['T002366']),\n",
       " (<wikidata.entity.Entity P1207>, ['n00038084']),\n",
       " (<wikidata.entity.Entity P4432>, ['10060244']),\n",
       " (<wikidata.entity.Entity P6706>, ['Amiet,+Cuno']),\n",
       " (<wikidata.entity.Entity P1559>, ['(de:) Cuno Amiet'[6:]]),\n",
       " (<wikidata.entity.Entity P8750>, ['293900']),\n",
       " (<wikidata.entity.Entity P8349>, ['7255']),\n",
       " (<wikidata.entity.Entity P7982>, ['2267']),\n",
       " (<wikidata.entity.Entity P7293>, ['9810606421905606']),\n",
       " (<wikidata.entity.Entity P8974>, ['a/33a08182-8b24-4919-84ac-12d33a09ee22']),\n",
       " (<wikidata.entity.Entity P1472>, ['Cuno Amiet']),\n",
       " (<wikidata.entity.Entity P5008>,\n",
       "  [<wikidata.entity.Entity Q104694359>, <wikidata.entity.Entity Q121437821>]),\n",
       " (<wikidata.entity.Entity P9049>, ['9bf3b467edbeeca9831bb58023e3a803']),\n",
       " (<wikidata.entity.Entity P7444>, ['2204']),\n",
       " (<wikidata.entity.Entity P7666>, ['cuno-amiet']),\n",
       " (<wikidata.entity.Entity P9493>,\n",
       "  [<wikidata.entity.Entity Q89574171>, <wikidata.entity.Entity Q5503390>]),\n",
       " (<wikidata.entity.Entity P9720>, ['20994']),\n",
       " (<wikidata.entity.Entity P9918>, ['PE00046967']),\n",
       " (<wikidata.entity.Entity P8189>, ['987007507958005171']),\n",
       " (<wikidata.entity.Entity P8313>, ['Cuno_Amiet']),\n",
       " (<wikidata.entity.Entity P701>, ['P25359']),\n",
       " (<wikidata.entity.Entity P2600>, ['6000000167785251245']),\n",
       " (<wikidata.entity.Entity P10527>, [<wikidata.entity.Entity Q50920401>]),\n",
       " (<wikidata.entity.Entity P3065>, ['02-A002925709']),\n",
       " (<wikidata.entity.Entity P1015>, ['1634281495836']),\n",
       " (<wikidata.entity.Entity P2031>, [1873]),\n",
       " (<wikidata.entity.Entity P2032>, [1961]),\n",
       " (<wikidata.entity.Entity P11239>, ['0006441007']),\n",
       " (<wikidata.entity.Entity P7305>, ['3868733']),\n",
       " (<wikidata.entity.Entity P2949>, ['Amiet-48']),\n",
       " (<wikidata.entity.Entity P12385>, ['cuno-amiet']),\n",
       " (<wikidata.entity.Entity P7545>, ['11011954']),\n",
       " (<wikidata.entity.Entity P18>,\n",
       "  [<wikidata.commonsmedia.File 'File:ETH-BIB Cuno Amiet Portraitfoto Com M01-0004-0013.tif'>]),\n",
       " (<wikidata.entity.Entity P12597>, ['283']),\n",
       " (<wikidata.entity.Entity P10832>, ['E39PBJq6XqxVdTCPFTQVbd7j4q']),\n",
       " (<wikidata.entity.Entity P7711>, ['T513-466']),\n",
       " (<wikidata.entity.Entity P3365>, ['cuno-amiet']),\n",
       " (<wikidata.entity.Entity P13049>, ['118502557'])]"
      ]
     },
     "execution_count": 21,
     "metadata": {},
     "output_type": "execute_result"
    }
   ],
   "source": [
    "# :et's\n",
    "cuno_amiet.lists()"
   ]
  },
  {
   "cell_type": "markdown",
   "metadata": {},
   "source": [
    "Now is a good time to review the framework of WikiData. The [introduction](https://www.wikidata.org/wiki/Wikidata:Introduction) page is a great place to get a better overview.\n",
    "\n",
    "But, the basics are this: WikiData is made up of [items](https://www.wikidata.org/wiki/Help:Items) which contain a unique identifier QID and properties. These properties have names, and connect the item to a value or another item.\n",
    "\n",
    "For our Cuno Amiet example, take the following \"Statement\"\n",
    "`(<wikidata.entity.Entity P21>, [<wikidata.entity.Entity Q6581097>])`\n",
    "\n",
    "This tells us that Cuno Amiet is linked to an Entity with QID Q6581097 via property P21.\n",
    "\n",
    "Huh?\n",
    "\n",
    "Okay, so let's re-write this using our RDF triplet framework. WikiData is completely compatable with this framework! See `Semantic Modeling` if you want more info on these triplets.\n",
    "\n",
    "The basic form of a triplet is:\n",
    "\n",
    "| Subject | Predicate | Object |\n",
    "\n",
    "For our triplet we have:\n",
    "| Subject | Predicate | Object |\n",
    "| ------- | --------- | ------ |\n",
    "| Q566797 | P21 | Q6581097 | \n",
    "\n",
    "Where 'Q566797' is our QID for Cuno Amiet. What do property and other QID mean?\n"
   ]
  },
  {
   "cell_type": "code",
   "execution_count": 26,
   "metadata": {},
   "outputs": [
    {
     "data": {
      "text/plain": [
       "<wikidata.entity.Entity P21 'sex or gender'>"
      ]
     },
     "execution_count": 26,
     "metadata": {},
     "output_type": "execute_result"
    }
   ],
   "source": [
    "# What does P21 mean?\n",
    "property_entity = client.get('P21', load=True)\n",
    "property_entity\n"
   ]
  },
  {
   "cell_type": "markdown",
   "metadata": {},
   "source": [
    "Ah! Okay! So Cuno's `sex or gender` is the entity with QID `Q6581097`. Let's see what this entity is! \n",
    "\n",
    "\n",
    "#### Clay's side note\n",
    "As we mentioned earlier, Universal Ontologies are very sensible to backwards compatability. Thus, when we create a label according to a conception of sex and gender from 20 years ago, it isn't clear how useful it is now. And, since universal ontologies are *very* afraid of backwards incompatability, they can sacrifice modern ideas of concepts, such as the idea that sex is biological and gender is cultural. In this way, **universal ontologies are inherently conservative structures.**\n",
    "\n",
    "As a footnote to my footnote, Even the idea that sex is somehow outside of culture has been disputed since the early 1990's. See *Bodies That Matter: On the Discursive Limits of Sex* by Judith Butler for more. "
   ]
  },
  {
   "cell_type": "code",
   "execution_count": 27,
   "metadata": {},
   "outputs": [
    {
     "data": {
      "text/plain": [
       "<wikidata.entity.Entity Q6581097 'male'>"
      ]
     },
     "execution_count": 27,
     "metadata": {},
     "output_type": "execute_result"
    }
   ],
   "source": [
    "value_entity = client.get('Q6581097', load=True)\n",
    "value_entity"
   ]
  },
  {
   "cell_type": "markdown",
   "metadata": {},
   "source": [
    "With over 12,000 properites, WikiData is a serious attempt at a collective universal ontology. If we have 12,000 different kinds of properties, we can encode all kinds of attributes. \n",
    "\n",
    "Values can also take the form of text/numbers, rather than a specific entity. \n",
    "For example, Cuno Amiet's birtdate:"
   ]
  },
  {
   "cell_type": "code",
   "execution_count": null,
   "metadata": {},
   "outputs": [
    {
     "data": {
      "text/plain": [
       "datetime.date(1868, 3, 28)"
      ]
     },
     "execution_count": 43,
     "metadata": {},
     "output_type": "execute_result"
    }
   ],
   "source": [
    "# The Property for \"Birthdate\"\n",
    "birthdate_property_string = 'P569'\n",
    "\n",
    "# Make sure to get the property entity from the client before indexing into Cuno!\n",
    "birthdate_property = client.get(birthdate_property_string, load=True)\n",
    "\n",
    "# Get the birthday using the birthdate property entity\n",
    "cuno_birthday = cuno_amiet[birthdate_property]\n",
    "cuno_birthday"
   ]
  },
  {
   "cell_type": "markdown",
   "metadata": {},
   "source": [
    "## Time\n",
    "\n",
    "This is a great way for us to jump into the question of how universal ontologies encode *time.*"
   ]
  },
  {
   "cell_type": "markdown",
   "metadata": {},
   "source": [
    "## "
   ]
  }
 ],
 "metadata": {
  "kernelspec": {
   "display_name": "FDH",
   "language": "python",
   "name": "python3"
  },
  "language_info": {
   "codemirror_mode": {
    "name": "ipython",
    "version": 3
   },
   "file_extension": ".py",
   "mimetype": "text/x-python",
   "name": "python",
   "nbconvert_exporter": "python",
   "pygments_lexer": "ipython3",
   "version": "3.11.10"
  }
 },
 "nbformat": 4,
 "nbformat_minor": 2
}
